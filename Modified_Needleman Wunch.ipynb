{
 "cells": [
  {
   "cell_type": "code",
   "execution_count": 2,
   "metadata": {},
   "outputs": [],
   "source": [
    "import pandas as pd\n",
    "import numpy as np"
   ]
  },
  {
   "cell_type": "code",
   "execution_count": 3,
   "metadata": {},
   "outputs": [],
   "source": [
    "gap_penalty=-1\n",
    "match_score=1\n",
    "mismatch_score=0"
   ]
  },
  {
   "cell_type": "code",
   "execution_count": 4,
   "metadata": {},
   "outputs": [],
   "source": [
    "def initialize(r,c):\n",
    "    mat=np.zeros((r+1,c+1))\n",
    "    return(mat)"
   ]
  },
  {
   "cell_type": "code",
   "execution_count": 5,
   "metadata": {},
   "outputs": [],
   "source": [
    "def match(seq1,seq2):\n",
    "    mat=np.ones((len(seq1),len(seq2)))\n",
    "    for i in range(len(seq1)):\n",
    "        for j in range(len(seq2)):\n",
    "            if(seq1[i]==seq2[j]):\n",
    "                mat[i,j]=match_score\n",
    "            else:\n",
    "                mat[i,j]=mismatch_score\n",
    "    return(mat)"
   ]
  },
  {
   "cell_type": "code",
   "execution_count": 11,
   "metadata": {},
   "outputs": [],
   "source": [
    "def backtrack(mat,seq1,seq2,match_table):\n",
    "    a_a=\"\"\n",
    "    a_b=\"\"\n",
    "    i=len(seq1)\n",
    "    j=len(seq2)\n",
    "    while(i>0 or j>0):\n",
    "        if(i>0 and j>0 and mat[i,j]==mat[i-1,j-1]+match_table[i-1,j-1]):\n",
    "            a_a = seq1[i-1] + a_a\n",
    "            a_b = seq2[j-1] + a_b\n",
    "            i = i-1\n",
    "            j = j-1\n",
    "        elif(i>0 and mat[i,j]==mat[i-1,j]+gap_penalty):\n",
    "            a_a = seq1[i-1] + a_a\n",
    "            a_b = '_' + a_b\n",
    "            i =i-1\n",
    "        else:\n",
    "            a_a = '_' + a_a\n",
    "            a_b = seq2[j-1] + a_b\n",
    "            j =j-1            \n",
    "    return(a_a,a_b)"
   ]
  },
  {
   "cell_type": "code",
   "execution_count": 12,
   "metadata": {},
   "outputs": [],
   "source": [
    "def matrix(mat,match_table):\n",
    "    for i in range(1,mat.shape[0]):\n",
    "        for j in range(1,mat.shape[1]):\n",
    "            if(i==mat.shape[0]-1 or j==mat.shape[1]-1):\n",
    "                a=mat[i-1,j]\n",
    "                b=mat[i,j-1]\n",
    "            else:\n",
    "                a=mat[i-1,j]+gap_penalty\n",
    "                b=mat[i,j-1]+gap_penalty\n",
    "            c=mat[i-1,j-1]+match_table[i-1,j-1]\n",
    "            mat[i,j]=max(a,b,c)\n",
    "    return(mat)"
   ]
  },
  {
   "cell_type": "code",
   "execution_count": 13,
   "metadata": {},
   "outputs": [],
   "source": [
    "def improve_n_w(seq1,seq2):\n",
    "    seq1=seq1.lower()\n",
    "    seq2=seq2.lower()\n",
    "    mat=initialize(len(seq1),len(seq2))\n",
    "    match_table=match(seq1,seq2)\n",
    "    mat=matrix(mat,match_table)\n",
    "    print(mat)\n",
    "    alignment=backtrack(mat,seq1,seq2,match_table)\n",
    "    return(alignment)"
   ]
  },
  {
   "cell_type": "code",
   "execution_count": 14,
   "metadata": {},
   "outputs": [
    {
     "name": "stdout",
     "output_type": "stream",
     "text": [
      "[[0. 0. 0. 0. 0. 0. 0. 0. 0. 0. 0.]\n",
      " [0. 1. 0. 1. 0. 0. 0. 1. 0. 0. 0.]\n",
      " [0. 0. 2. 1. 2. 1. 0. 0. 1. 1. 1.]\n",
      " [0. 1. 1. 3. 2. 2. 1. 1. 0. 1. 1.]\n",
      " [0. 0. 2. 2. 4. 3. 2. 1. 1. 1. 1.]\n",
      " [0. 0. 1. 2. 3. 5. 4. 3. 2. 1. 1.]\n",
      " [0. 0. 1. 2. 3. 5. 6. 6. 6. 6. 6.]]\n"
     ]
    },
    {
     "data": {
      "text/plain": [
       "('acactg____', 'acactgatcg')"
      ]
     },
     "execution_count": 14,
     "metadata": {},
     "output_type": "execute_result"
    }
   ],
   "source": [
    "improve_n_w('acactg','acactgatcg')"
   ]
  },
  {
   "cell_type": "code",
   "execution_count": 15,
   "metadata": {},
   "outputs": [
    {
     "name": "stdout",
     "output_type": "stream",
     "text": [
      "[[0. 0. 0. 0. 0. 0. 0. 0. 0. 0. 0. 0.]\n",
      " [0. 0. 1. 0. 1. 0. 0. 0. 0. 0. 0. 0.]\n",
      " [0. 0. 0. 1. 0. 2. 1. 0. 0. 0. 1. 1.]\n",
      " [0. 1. 0. 0. 1. 1. 2. 1. 0. 1. 0. 1.]\n",
      " [0. 0. 1. 1. 0. 1. 1. 3. 2. 1. 1. 1.]\n",
      " [0. 0. 0. 2. 1. 0. 1. 2. 4. 3. 2. 2.]\n",
      " [0. 0. 0. 1. 2. 2. 1. 1. 3. 4. 4. 4.]\n",
      " [0. 1. 0. 0. 1. 2. 2. 1. 2. 4. 4. 4.]\n",
      " [0. 1. 1. 1. 1. 2. 2. 2. 2. 4. 4. 4.]]\n"
     ]
    },
    {
     "data": {
      "text/plain": [
       "('___gacttac ', 'cgtgaattcat')"
      ]
     },
     "execution_count": 15,
     "metadata": {},
     "output_type": "execute_result"
    }
   ],
   "source": [
    "improve_n_w('GACTTAC ','CGTGAATTCAT')"
   ]
  },
  {
   "cell_type": "code",
   "execution_count": null,
   "metadata": {},
   "outputs": [],
   "source": []
  },
  {
   "cell_type": "code",
   "execution_count": null,
   "metadata": {},
   "outputs": [],
   "source": []
  },
  {
   "cell_type": "code",
   "execution_count": null,
   "metadata": {},
   "outputs": [],
   "source": []
  }
 ],
 "metadata": {
  "kernelspec": {
   "display_name": "Python 3",
   "language": "python",
   "name": "python3"
  },
  "language_info": {
   "codemirror_mode": {
    "name": "ipython",
    "version": 3
   },
   "file_extension": ".py",
   "mimetype": "text/x-python",
   "name": "python",
   "nbconvert_exporter": "python",
   "pygments_lexer": "ipython3",
   "version": "3.7.3"
  }
 },
 "nbformat": 4,
 "nbformat_minor": 2
}
