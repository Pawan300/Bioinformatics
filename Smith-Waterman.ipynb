{
 "cells": [
  {
   "cell_type": "code",
   "execution_count": 1,
   "metadata": {},
   "outputs": [],
   "source": [
    "import pandas as pd\n",
    "import numpy as np"
   ]
  },
  {
   "cell_type": "code",
   "execution_count": 2,
   "metadata": {},
   "outputs": [],
   "source": [
    "gap_penalty=-2\n",
    "match_score=+3\n",
    "mismatch_score=-4"
   ]
  },
  {
   "cell_type": "code",
   "execution_count": 3,
   "metadata": {},
   "outputs": [],
   "source": [
    "def initialize(r,c):\n",
    "    mat=np.zeros((r+1,c+1))\n",
    "    return(mat)"
   ]
  },
  {
   "cell_type": "code",
   "execution_count": 4,
   "metadata": {},
   "outputs": [],
   "source": [
    "def match(seq1,seq2):\n",
    "    mat=np.ones((len(seq1),len(seq2)))\n",
    "    for i in range(len(seq1)):\n",
    "        for j in range(len(seq2)):\n",
    "            if(seq1[i]==seq2[j]):\n",
    "                mat[i,j]=match_score\n",
    "            else:\n",
    "                mat[i,j]=mismatch_score\n",
    "    return(mat)"
   ]
  },
  {
   "cell_type": "code",
   "execution_count": 6,
   "metadata": {},
   "outputs": [],
   "source": [
    "def matrix(mat,match_table):\n",
    "    for i in range(1,mat.shape[0]):\n",
    "        for j in range(1,mat.shape[1]):\n",
    "            a=mat[i-1,j]+gap_penalty\n",
    "            b=mat[i,j-1]+gap_penalty\n",
    "            c=mat[i-1,j-1]+match_table[i-1,j-1]\n",
    "            if(max(a,b,c)<0):\n",
    "                mat[i,j]=0\n",
    "            else:\n",
    "                mat[i,j]=max(a,b,c)\n",
    "    return(mat)"
   ]
  },
  {
   "cell_type": "code",
   "execution_count": 7,
   "metadata": {},
   "outputs": [],
   "source": [
    "def backtracking(mat,match_table,seq1,seq2):\n",
    "    max_ele=np.unravel_index(np.argmax(mat, axis=None), mat.shape)\n",
    "    a=\"\"\n",
    "    b=\"\"\n",
    "    i=max_ele[0]\n",
    "    j=max_ele[1]\n",
    "    while(mat[i,j]!=0 and (i>0 or j>0)):\n",
    "        if(i>0 and j>0 and mat[i,j]==mat[i-1,j-1]+match_table[i-1,j-1]):\n",
    "            a=seq1[i-1]+a\n",
    "            b=seq1[i-1]+b\n",
    "            i = i-1\n",
    "            j = j-1\n",
    "        elif(i>0 and mat[i,j]==mat[i-1,j]+gap_penalty):\n",
    "            a='_'+a\n",
    "            b=seq1[i-1]+b\n",
    "            i =i-1\n",
    "        else:\n",
    "            b = '_' +b\n",
    "            a=seq2[j-1]+a\n",
    "            j =j-1\n",
    "    return(a,b)"
   ]
  },
  {
   "cell_type": "code",
   "execution_count": 8,
   "metadata": {},
   "outputs": [],
   "source": [
    "def s_w(seq1,seq2):\n",
    "    seq1=seq1.lower()\n",
    "    seq2=seq2.lower()\n",
    "    mat=initialize(len(seq1),len(seq2))\n",
    "    match_table=match(seq1,seq2)\n",
    "    mat=matrix(mat,match_table)\n",
    "    print(mat)\n",
    "    alignment=backtracking(mat,match_table,seq1,seq2)\n",
    "    return(alignment)"
   ]
  },
  {
   "cell_type": "markdown",
   "metadata": {},
   "source": [
    "## Examples"
   ]
  },
  {
   "cell_type": "code",
   "execution_count": 9,
   "metadata": {},
   "outputs": [
    {
     "name": "stdout",
     "output_type": "stream",
     "text": [
      "[[ 0.  0.  0.  0.  0.  0.  0.  0.  0.  0.  0.  0.]\n",
      " [ 0.  0.  0.  0.  0.  0.  0.  0.  0.  3.  1.  0.]\n",
      " [ 0.  0.  0.  3.  3.  1.  0.  0.  0.  1.  6.  4.]\n",
      " [ 0.  0.  0.  1.  1.  0.  0.  0.  0.  3.  4.  2.]\n",
      " [ 0.  3.  3.  1.  0.  0.  3.  1.  3.  1.  2.  0.]\n",
      " [ 0.  1.  1.  0.  0.  3.  1.  6.  4.  2.  0.  5.]\n",
      " [ 0.  3.  4.  2.  0.  1.  6.  4.  9.  7.  5.  3.]\n",
      " [ 0.  1.  2.  0.  0.  3.  4.  9.  7.  5.  3.  8.]\n",
      " [ 0.  3.  4.  2.  0.  1.  6.  7. 12. 10.  8.  6.]]\n"
     ]
    },
    {
     "data": {
      "text/plain": [
       "('tata', 'tata')"
      ]
     },
     "execution_count": 9,
     "metadata": {},
     "output_type": "execute_result"
    }
   ],
   "source": [
    "s_w('gcgatata','aacctatagct')"
   ]
  },
  {
   "cell_type": "code",
   "execution_count": 10,
   "metadata": {},
   "outputs": [
    {
     "name": "stdout",
     "output_type": "stream",
     "text": [
      "[[ 0.  0.  0.  0.  0.  0.  0.  0.  0.]\n",
      " [ 0.  0.  3.  1.  0.  0.  0.  3.  3.]\n",
      " [ 0.  0.  3.  1.  0.  0.  0.  3.  6.]\n",
      " [ 0.  3.  1.  6.  4.  2.  0.  1.  4.]\n",
      " [ 0.  3.  1.  4.  9.  7.  5.  3.  2.]\n",
      " [ 0.  1.  6.  4.  7.  5.  3.  8.  6.]\n",
      " [ 0.  0.  4.  2.  5. 10.  8.  6.  4.]\n",
      " [ 0.  0.  2.  0.  3.  8. 13. 11.  9.]\n",
      " [ 0.  3.  1.  5.  3.  6. 11.  9.  7.]\n",
      " [ 0.  1.  0.  3.  1.  6.  9.  7.  5.]]\n"
     ]
    },
    {
     "data": {
      "text/plain": [
       "('gtt_ac', 'gttgac')"
      ]
     },
     "execution_count": 10,
     "metadata": {},
     "output_type": "execute_result"
    }
   ],
   "source": [
    "s_w('ggttgacta','tgttacgg')"
   ]
  },
  {
   "cell_type": "code",
   "execution_count": 11,
   "metadata": {},
   "outputs": [
    {
     "name": "stdout",
     "output_type": "stream",
     "text": [
      "[[0. 0. 0. 0. 0. 0. 0. 0. 0. 0. 0. 0.]\n",
      " [0. 0. 3. 1. 3. 1. 0. 0. 0. 0. 0. 0.]\n",
      " [0. 0. 1. 0. 1. 6. 4. 2. 0. 0. 3. 1.]\n",
      " [0. 3. 1. 0. 0. 4. 2. 0. 0. 3. 1. 0.]\n",
      " [0. 1. 0. 4. 2. 2. 0. 5. 3. 1. 0. 4.]\n",
      " [0. 0. 0. 3. 1. 0. 0. 3. 8. 6. 4. 3.]\n",
      " [0. 0. 0. 1. 0. 4. 3. 1. 6. 4. 9. 7.]\n",
      " [0. 3. 1. 0. 0. 2. 1. 0. 4. 9. 7. 5.]]\n"
     ]
    },
    {
     "data": {
      "text/plain": [
       "('gacttca', 'gactt_a')"
      ]
     },
     "execution_count": 11,
     "metadata": {},
     "output_type": "execute_result"
    }
   ],
   "source": [
    "s_w('GACTTAC','CGTGAATTCAT')"
   ]
  },
  {
   "cell_type": "code",
   "execution_count": null,
   "metadata": {},
   "outputs": [],
   "source": []
  },
  {
   "cell_type": "code",
   "execution_count": null,
   "metadata": {},
   "outputs": [],
   "source": []
  }
 ],
 "metadata": {
  "kernelspec": {
   "display_name": "Python 3",
   "language": "python",
   "name": "python3"
  },
  "language_info": {
   "codemirror_mode": {
    "name": "ipython",
    "version": 3
   },
   "file_extension": ".py",
   "mimetype": "text/x-python",
   "name": "python",
   "nbconvert_exporter": "python",
   "pygments_lexer": "ipython3",
   "version": "3.7.3"
  }
 },
 "nbformat": 4,
 "nbformat_minor": 2
}
