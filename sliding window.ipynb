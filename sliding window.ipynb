{
 "cells": [
  {
   "cell_type": "code",
   "execution_count": 110,
   "metadata": {},
   "outputs": [],
   "source": [
    "import pandas as pd\n",
    "import numpy as np\n",
    "import matplotlib.pyplot as plt"
   ]
  },
  {
   "cell_type": "code",
   "execution_count": 111,
   "metadata": {},
   "outputs": [],
   "source": [
    "def sliding_window(window,threshhold,seq1,seq2):\n",
    "    seq1=seq1.lower()\n",
    "    seq2=seq2.lower()\n",
    "    result=[]\n",
    "    if(len(seq1)>len(seq2)):\n",
    "        seq2=seq2+'-'*(len(seq1)-len(seq2))\n",
    "    else:\n",
    "        seq1=seq1+'-'*(len(seq2)-len(seq1))\n",
    "    i=0\n",
    "    while(i<max(len(seq1),len(seq2))/window):\n",
    "        s1=seq1[window*i:window*(i+1)]\n",
    "        k=0\n",
    "        while(k<len(seq2)/window):\n",
    "            count=0\n",
    "            s2=seq2[window*k:window*(k+1)]\n",
    "            #print(s1,s2)\n",
    "            for l in range(0,min(len(s1),len(s2))):\n",
    "                #print(s1[l],s2[l])\n",
    "                if(s1[l]==s2[l]):\n",
    "                    count+=1\n",
    "            if(count>=threshhold):\n",
    "                result.append((i,k))\n",
    "            k=k+1\n",
    "        i=i+1\n",
    "    return(result)"
   ]
  },
  {
   "cell_type": "code",
   "execution_count": 112,
   "metadata": {},
   "outputs": [],
   "source": [
    "def dotplot(mat):\n",
    "    l=[]\n",
    "    r=[]\n",
    "    for i in mat:\n",
    "        l.append(i[0])\n",
    "        r.append(i[1])\n",
    "    plt.scatter(l,r)"
   ]
  },
  {
   "cell_type": "code",
   "execution_count": 113,
   "metadata": {},
   "outputs": [
    {
     "data": {
      "image/png": "[encoded data removed]",
      "text/plain": [
       "<Figure size 432x288 with 1 Axes>"
      ]
     },
     "metadata": {
      "needs_background": "light"
     },
     "output_type": "display_data"
    }
   ],
   "source": [
    "seq1='aAGatACGCGtTCGgagtcgacgtagggatgctggatcgtagctgatcgatgatgatgctagctaggataatgagtagtaggatgatgagatgagatga'\n",
    "seq2='AAGATagacgtgcatgcgtgcgggcccaaaattttggcacgtcagtgcagtcaatgagctagatcgagtaatgatgtagatagagtagatagcagatag'\n",
    "dotplot(sliding_window(10,5,seq1,seq2))"
   ]
  },
  {
   "cell_type": "code",
   "execution_count": null,
   "metadata": {},
   "outputs": [],
   "source": []
  },
  {
   "cell_type": "code",
   "execution_count": null,
   "metadata": {},
   "outputs": [],
   "source": []
  }
 ],
 "metadata": {
  "kernelspec": {
   "display_name": "Python 3",
   "language": "python",
   "name": "python3"
  },
  "language_info": {
   "codemirror_mode": {
    "name": "ipython",
    "version": 3
   },
   "file_extension": ".py",
   "mimetype": "text/x-python",
   "name": "python",
   "nbconvert_exporter": "python",
   "pygments_lexer": "ipython3",
   "version": "3.7.3"
  }
 },
 "nbformat": 4,
 "nbformat_minor": 2
}
